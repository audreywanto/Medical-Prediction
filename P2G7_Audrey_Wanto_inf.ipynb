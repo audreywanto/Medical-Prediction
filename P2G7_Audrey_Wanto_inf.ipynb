{
  "nbformat": 4,
  "nbformat_minor": 0,
  "metadata": {
    "colab": {
      "provenance": []
    },
    "kernelspec": {
      "name": "python3",
      "display_name": "Python 3"
    },
    "language_info": {
      "name": "python"
    }
  },
  "cells": [
    {
      "cell_type": "markdown",
      "source": [
        "# Introduction\n",
        "\n",
        "- Name: Audrey Wanto\n",
        "- Batch: BSD 002\n",
        "- Dataset: [California Independent Medical Review Dataset](https://www.kaggle.com/datasets/prasad22/ca-independent-medical-review)\n",
        "- Objective: Create a model inference based on the model created in the main notebook, and classify the new data."
      ],
      "metadata": {
        "id": "d-iiBWP0l9WY"
      }
    },
    {
      "cell_type": "markdown",
      "source": [
        "# Model Inference"
      ],
      "metadata": {
        "id": "mLHWPGvWmE0p"
      }
    },
    {
      "cell_type": "code",
      "source": [
        "# Import libraries\n",
        "import pandas as pd\n",
        "import numpy as np\n",
        "import tensorflow as tf\n",
        "import warnings\n",
        "warnings.filterwarnings('ignore')\n",
        "from google.colab import files"
      ],
      "metadata": {
        "id": "DTxutQXHl9EJ"
      },
      "execution_count": 1,
      "outputs": []
    },
    {
      "cell_type": "markdown",
      "source": [
        "## Mount to Google Drive"
      ],
      "metadata": {
        "id": "Jq7mzkEBmWWj"
      }
    },
    {
      "cell_type": "code",
      "execution_count": 2,
      "metadata": {
        "colab": {
          "base_uri": "https://localhost:8080/"
        },
        "id": "ZuZW-KRhlqUN",
        "outputId": "9806bdce-3ada-492f-f19e-f8e38a447fd7"
      },
      "outputs": [
        {
          "output_type": "stream",
          "name": "stdout",
          "text": [
            "Drive already mounted at /content/drive; to attempt to forcibly remount, call drive.mount(\"/content/drive\", force_remount=True).\n"
          ]
        }
      ],
      "source": [
        "# Mount to Google Drive\n",
        "from google.colab import drive\n",
        "drive.mount('/content/drive')"
      ]
    },
    {
      "cell_type": "markdown",
      "source": [
        "## Unzip model and load model"
      ],
      "metadata": {
        "id": "BRZn96NBmzUh"
      }
    },
    {
      "cell_type": "code",
      "source": [
        "# Unzip Model\n",
        "!unzip -q '/content/drive/MyDrive/model.zip' -d model"
      ],
      "metadata": {
        "colab": {
          "base_uri": "https://localhost:8080/"
        },
        "id": "RG94KsMvm6fp",
        "outputId": "4a76d384-06da-4474-df1c-3c311516b7b9"
      },
      "execution_count": 3,
      "outputs": [
        {
          "output_type": "stream",
          "name": "stdout",
          "text": [
            "replace model/fingerprint.pb? [y]es, [n]o, [A]ll, [N]one, [r]ename: y\n",
            "replace model/keras_metadata.pb? [y]es, [n]o, [A]ll, [N]one, [r]ename: y\n",
            "replace model/saved_model.pb? [y]es, [n]o, [A]ll, [N]one, [r]ename: y\n",
            "replace model/variables/variables.index? [y]es, [n]o, [A]ll, [N]one, [r]ename: y\n",
            "replace model/variables/variables.data-00000-of-00001? [y]es, [n]o, [A]ll, [N]one, [r]ename: y\n"
          ]
        }
      ]
    },
    {
      "cell_type": "code",
      "source": [
        "# Create path for model\n",
        "model_path = '/content/model'"
      ],
      "metadata": {
        "id": "Eql5It54m-Wt"
      },
      "execution_count": 4,
      "outputs": []
    },
    {
      "cell_type": "code",
      "source": [
        "# Load model\n",
        "model = tf.keras.models.load_model(model_path)"
      ],
      "metadata": {
        "id": "92Y88v-Tu8jr"
      },
      "execution_count": 5,
      "outputs": []
    },
    {
      "cell_type": "markdown",
      "source": [
        "## Load data inference"
      ],
      "metadata": {
        "id": "lcJyur6DnjqI"
      }
    },
    {
      "cell_type": "code",
      "source": [
        "# Read file\n",
        "data = pd.read_csv('drive/My Drive/Data_inf.csv')"
      ],
      "metadata": {
        "id": "gmBbHarbnlt0"
      },
      "execution_count": 6,
      "outputs": []
    },
    {
      "cell_type": "code",
      "source": [
        "# Create dataframe\n",
        "data = pd.DataFrame(data)\n",
        "data"
      ],
      "metadata": {
        "colab": {
          "base_uri": "https://localhost:8080/",
          "height": 115
        },
        "id": "RgEegDmwn08r",
        "outputId": "0991bcf4-3a90-41ac-a789-e30c266b209c"
      },
      "execution_count": 7,
      "outputs": [
        {
          "output_type": "execute_result",
          "data": {
            "text/plain": [
              "   Unnamed: 0 Reference ID  Report Year  \\\n",
              "0           0    EI08-8281         2008   \n",
              "\n",
              "                      Diagnosis Category Diagnosis Sub Category  \\\n",
              "0  Central Nervous System/ Neuromuscular                  Other   \n",
              "\n",
              "                          Treatment Category Treatment Sub Category  \\\n",
              "0  Diagnostic Imaging, Screening and Testing                  Other   \n",
              "\n",
              "                        Determination                          Type Age Range  \\\n",
              "0  Overturned Decision of Health Plan  Experimental/Investigational     51-64   \n",
              "\n",
              "  Patient Gender                                           Findings  \n",
              "0         Female  A 54-year-old female enrollee has requested fo...  "
            ],
            "text/html": [
              "\n",
              "  <div id=\"df-c1759329-5c56-460a-b626-9b43fc0bd2e5\" class=\"colab-df-container\">\n",
              "    <div>\n",
              "<style scoped>\n",
              "    .dataframe tbody tr th:only-of-type {\n",
              "        vertical-align: middle;\n",
              "    }\n",
              "\n",
              "    .dataframe tbody tr th {\n",
              "        vertical-align: top;\n",
              "    }\n",
              "\n",
              "    .dataframe thead th {\n",
              "        text-align: right;\n",
              "    }\n",
              "</style>\n",
              "<table border=\"1\" class=\"dataframe\">\n",
              "  <thead>\n",
              "    <tr style=\"text-align: right;\">\n",
              "      <th></th>\n",
              "      <th>Unnamed: 0</th>\n",
              "      <th>Reference ID</th>\n",
              "      <th>Report Year</th>\n",
              "      <th>Diagnosis Category</th>\n",
              "      <th>Diagnosis Sub Category</th>\n",
              "      <th>Treatment Category</th>\n",
              "      <th>Treatment Sub Category</th>\n",
              "      <th>Determination</th>\n",
              "      <th>Type</th>\n",
              "      <th>Age Range</th>\n",
              "      <th>Patient Gender</th>\n",
              "      <th>Findings</th>\n",
              "    </tr>\n",
              "  </thead>\n",
              "  <tbody>\n",
              "    <tr>\n",
              "      <th>0</th>\n",
              "      <td>0</td>\n",
              "      <td>EI08-8281</td>\n",
              "      <td>2008</td>\n",
              "      <td>Central Nervous System/ Neuromuscular</td>\n",
              "      <td>Other</td>\n",
              "      <td>Diagnostic Imaging, Screening and Testing</td>\n",
              "      <td>Other</td>\n",
              "      <td>Overturned Decision of Health Plan</td>\n",
              "      <td>Experimental/Investigational</td>\n",
              "      <td>51-64</td>\n",
              "      <td>Female</td>\n",
              "      <td>A 54-year-old female enrollee has requested fo...</td>\n",
              "    </tr>\n",
              "  </tbody>\n",
              "</table>\n",
              "</div>\n",
              "    <div class=\"colab-df-buttons\">\n",
              "\n",
              "  <div class=\"colab-df-container\">\n",
              "    <button class=\"colab-df-convert\" onclick=\"convertToInteractive('df-c1759329-5c56-460a-b626-9b43fc0bd2e5')\"\n",
              "            title=\"Convert this dataframe to an interactive table.\"\n",
              "            style=\"display:none;\">\n",
              "\n",
              "  <svg xmlns=\"http://www.w3.org/2000/svg\" height=\"24px\" viewBox=\"0 -960 960 960\">\n",
              "    <path d=\"M120-120v-720h720v720H120Zm60-500h600v-160H180v160Zm220 220h160v-160H400v160Zm0 220h160v-160H400v160ZM180-400h160v-160H180v160Zm440 0h160v-160H620v160ZM180-180h160v-160H180v160Zm440 0h160v-160H620v160Z\"/>\n",
              "  </svg>\n",
              "    </button>\n",
              "\n",
              "  <style>\n",
              "    .colab-df-container {\n",
              "      display:flex;\n",
              "      gap: 12px;\n",
              "    }\n",
              "\n",
              "    .colab-df-convert {\n",
              "      background-color: #E8F0FE;\n",
              "      border: none;\n",
              "      border-radius: 50%;\n",
              "      cursor: pointer;\n",
              "      display: none;\n",
              "      fill: #1967D2;\n",
              "      height: 32px;\n",
              "      padding: 0 0 0 0;\n",
              "      width: 32px;\n",
              "    }\n",
              "\n",
              "    .colab-df-convert:hover {\n",
              "      background-color: #E2EBFA;\n",
              "      box-shadow: 0px 1px 2px rgba(60, 64, 67, 0.3), 0px 1px 3px 1px rgba(60, 64, 67, 0.15);\n",
              "      fill: #174EA6;\n",
              "    }\n",
              "\n",
              "    .colab-df-buttons div {\n",
              "      margin-bottom: 4px;\n",
              "    }\n",
              "\n",
              "    [theme=dark] .colab-df-convert {\n",
              "      background-color: #3B4455;\n",
              "      fill: #D2E3FC;\n",
              "    }\n",
              "\n",
              "    [theme=dark] .colab-df-convert:hover {\n",
              "      background-color: #434B5C;\n",
              "      box-shadow: 0px 1px 3px 1px rgba(0, 0, 0, 0.15);\n",
              "      filter: drop-shadow(0px 1px 2px rgba(0, 0, 0, 0.3));\n",
              "      fill: #FFFFFF;\n",
              "    }\n",
              "  </style>\n",
              "\n",
              "    <script>\n",
              "      const buttonEl =\n",
              "        document.querySelector('#df-c1759329-5c56-460a-b626-9b43fc0bd2e5 button.colab-df-convert');\n",
              "      buttonEl.style.display =\n",
              "        google.colab.kernel.accessAllowed ? 'block' : 'none';\n",
              "\n",
              "      async function convertToInteractive(key) {\n",
              "        const element = document.querySelector('#df-c1759329-5c56-460a-b626-9b43fc0bd2e5');\n",
              "        const dataTable =\n",
              "          await google.colab.kernel.invokeFunction('convertToInteractive',\n",
              "                                                    [key], {});\n",
              "        if (!dataTable) return;\n",
              "\n",
              "        const docLinkHtml = 'Like what you see? Visit the ' +\n",
              "          '<a target=\"_blank\" href=https://colab.research.google.com/notebooks/data_table.ipynb>data table notebook</a>'\n",
              "          + ' to learn more about interactive tables.';\n",
              "        element.innerHTML = '';\n",
              "        dataTable['output_type'] = 'display_data';\n",
              "        await google.colab.output.renderOutput(dataTable, element);\n",
              "        const docLink = document.createElement('div');\n",
              "        docLink.innerHTML = docLinkHtml;\n",
              "        element.appendChild(docLink);\n",
              "      }\n",
              "    </script>\n",
              "  </div>\n",
              "\n",
              "    </div>\n",
              "  </div>\n"
            ]
          },
          "metadata": {},
          "execution_count": 7
        }
      ]
    },
    {
      "cell_type": "code",
      "source": [
        "# Create new dataframe with only 'Findings' columns\n",
        "data_inf = data[['Findings']].copy()\n",
        "data_inf"
      ],
      "metadata": {
        "colab": {
          "base_uri": "https://localhost:8080/",
          "height": 81
        },
        "id": "cb5qmdbbr7sR",
        "outputId": "9b0a9bec-f7db-4388-bc49-9f300199368e"
      },
      "execution_count": 8,
      "outputs": [
        {
          "output_type": "execute_result",
          "data": {
            "text/plain": [
              "                                            Findings\n",
              "0  A 54-year-old female enrollee has requested fo..."
            ],
            "text/html": [
              "\n",
              "  <div id=\"df-c9c5dbeb-cf2f-4967-9a8f-d1405a331cba\" class=\"colab-df-container\">\n",
              "    <div>\n",
              "<style scoped>\n",
              "    .dataframe tbody tr th:only-of-type {\n",
              "        vertical-align: middle;\n",
              "    }\n",
              "\n",
              "    .dataframe tbody tr th {\n",
              "        vertical-align: top;\n",
              "    }\n",
              "\n",
              "    .dataframe thead th {\n",
              "        text-align: right;\n",
              "    }\n",
              "</style>\n",
              "<table border=\"1\" class=\"dataframe\">\n",
              "  <thead>\n",
              "    <tr style=\"text-align: right;\">\n",
              "      <th></th>\n",
              "      <th>Findings</th>\n",
              "    </tr>\n",
              "  </thead>\n",
              "  <tbody>\n",
              "    <tr>\n",
              "      <th>0</th>\n",
              "      <td>A 54-year-old female enrollee has requested fo...</td>\n",
              "    </tr>\n",
              "  </tbody>\n",
              "</table>\n",
              "</div>\n",
              "    <div class=\"colab-df-buttons\">\n",
              "\n",
              "  <div class=\"colab-df-container\">\n",
              "    <button class=\"colab-df-convert\" onclick=\"convertToInteractive('df-c9c5dbeb-cf2f-4967-9a8f-d1405a331cba')\"\n",
              "            title=\"Convert this dataframe to an interactive table.\"\n",
              "            style=\"display:none;\">\n",
              "\n",
              "  <svg xmlns=\"http://www.w3.org/2000/svg\" height=\"24px\" viewBox=\"0 -960 960 960\">\n",
              "    <path d=\"M120-120v-720h720v720H120Zm60-500h600v-160H180v160Zm220 220h160v-160H400v160Zm0 220h160v-160H400v160ZM180-400h160v-160H180v160Zm440 0h160v-160H620v160ZM180-180h160v-160H180v160Zm440 0h160v-160H620v160Z\"/>\n",
              "  </svg>\n",
              "    </button>\n",
              "\n",
              "  <style>\n",
              "    .colab-df-container {\n",
              "      display:flex;\n",
              "      gap: 12px;\n",
              "    }\n",
              "\n",
              "    .colab-df-convert {\n",
              "      background-color: #E8F0FE;\n",
              "      border: none;\n",
              "      border-radius: 50%;\n",
              "      cursor: pointer;\n",
              "      display: none;\n",
              "      fill: #1967D2;\n",
              "      height: 32px;\n",
              "      padding: 0 0 0 0;\n",
              "      width: 32px;\n",
              "    }\n",
              "\n",
              "    .colab-df-convert:hover {\n",
              "      background-color: #E2EBFA;\n",
              "      box-shadow: 0px 1px 2px rgba(60, 64, 67, 0.3), 0px 1px 3px 1px rgba(60, 64, 67, 0.15);\n",
              "      fill: #174EA6;\n",
              "    }\n",
              "\n",
              "    .colab-df-buttons div {\n",
              "      margin-bottom: 4px;\n",
              "    }\n",
              "\n",
              "    [theme=dark] .colab-df-convert {\n",
              "      background-color: #3B4455;\n",
              "      fill: #D2E3FC;\n",
              "    }\n",
              "\n",
              "    [theme=dark] .colab-df-convert:hover {\n",
              "      background-color: #434B5C;\n",
              "      box-shadow: 0px 1px 3px 1px rgba(0, 0, 0, 0.15);\n",
              "      filter: drop-shadow(0px 1px 2px rgba(0, 0, 0, 0.3));\n",
              "      fill: #FFFFFF;\n",
              "    }\n",
              "  </style>\n",
              "\n",
              "    <script>\n",
              "      const buttonEl =\n",
              "        document.querySelector('#df-c9c5dbeb-cf2f-4967-9a8f-d1405a331cba button.colab-df-convert');\n",
              "      buttonEl.style.display =\n",
              "        google.colab.kernel.accessAllowed ? 'block' : 'none';\n",
              "\n",
              "      async function convertToInteractive(key) {\n",
              "        const element = document.querySelector('#df-c9c5dbeb-cf2f-4967-9a8f-d1405a331cba');\n",
              "        const dataTable =\n",
              "          await google.colab.kernel.invokeFunction('convertToInteractive',\n",
              "                                                    [key], {});\n",
              "        if (!dataTable) return;\n",
              "\n",
              "        const docLinkHtml = 'Like what you see? Visit the ' +\n",
              "          '<a target=\"_blank\" href=https://colab.research.google.com/notebooks/data_table.ipynb>data table notebook</a>'\n",
              "          + ' to learn more about interactive tables.';\n",
              "        element.innerHTML = '';\n",
              "        dataTable['output_type'] = 'display_data';\n",
              "        await google.colab.output.renderOutput(dataTable, element);\n",
              "        const docLink = document.createElement('div');\n",
              "        docLink.innerHTML = docLinkHtml;\n",
              "        element.appendChild(docLink);\n",
              "      }\n",
              "    </script>\n",
              "  </div>\n",
              "\n",
              "    </div>\n",
              "  </div>\n"
            ]
          },
          "metadata": {},
          "execution_count": 8
        }
      ]
    },
    {
      "cell_type": "code",
      "source": [
        "# Check summary of Model\n",
        "model.summary()"
      ],
      "metadata": {
        "colab": {
          "base_uri": "https://localhost:8080/"
        },
        "id": "mhGqeg6MsWex",
        "outputId": "c766129c-fac9-4551-88ee-40fb22d05309"
      },
      "execution_count": 9,
      "outputs": [
        {
          "output_type": "stream",
          "name": "stdout",
          "text": [
            "Model: \"sequential\"\n",
            "_________________________________________________________________\n",
            " Layer (type)                Output Shape              Param #   \n",
            "=================================================================\n",
            " text_vectorization (TextVe  (None, 628)               0         \n",
            " ctorization)                                                    \n",
            "                                                                 \n",
            " embedding (Embedding)       (None, 628, 128)          2659840   \n",
            "                                                                 \n",
            " bidirectional (Bidirection  (None, 628, 64)           41216     \n",
            " al)                                                             \n",
            "                                                                 \n",
            " dropout (Dropout)           (None, 628, 64)           0         \n",
            "                                                                 \n",
            " bidirectional_1 (Bidirecti  (None, 32)                10368     \n",
            " onal)                                                           \n",
            "                                                                 \n",
            " dropout_1 (Dropout)         (None, 32)                0         \n",
            "                                                                 \n",
            " dense (Dense)               (None, 3)                 99        \n",
            "                                                                 \n",
            "=================================================================\n",
            "Total params: 2711523 (10.34 MB)\n",
            "Trainable params: 2711523 (10.34 MB)\n",
            "Non-trainable params: 0 (0.00 Byte)\n",
            "_________________________________________________________________\n"
          ]
        }
      ]
    },
    {
      "cell_type": "code",
      "source": [
        "# Predict the data inference\n",
        "result = model.predict(data_inf)\n",
        "result = np.where(result >= 0.5, 1, 0)"
      ],
      "metadata": {
        "colab": {
          "base_uri": "https://localhost:8080/"
        },
        "id": "dRjDZBWon-74",
        "outputId": "433abe5f-fe72-4cab-aa64-2fa17c54ab32"
      },
      "execution_count": 10,
      "outputs": [
        {
          "output_type": "stream",
          "name": "stdout",
          "text": [
            "1/1 [==============================] - 2s 2s/step\n"
          ]
        }
      ]
    },
    {
      "cell_type": "markdown",
      "source": [
        "From the main notebook, the results have been encoded into the following:\n",
        "\n",
        "| Type | Target Value | Encoding |\n",
        "| ---- | ------------ | -------- |\n",
        "| Medical Necessity | 0 | [1, 0, 0] |\n",
        "| Experimental/Investigational | 1 | [0, 1, 0] |\n",
        "| Urgent Care | 2 | [0, 0, 1] |\n",
        "\n",
        "And thus, it can be concluded that the result is of the following code cell"
      ],
      "metadata": {
        "id": "M06xrXlhwf21"
      }
    },
    {
      "cell_type": "code",
      "source": [
        "# Change result into list from array\n",
        "result = result.tolist()"
      ],
      "metadata": {
        "id": "MdbHPDcSxf7m"
      },
      "execution_count": 11,
      "outputs": []
    },
    {
      "cell_type": "code",
      "source": [
        "# Display Result\n",
        "if result == [[1, 0, 0]]:\n",
        "  print('Medical Necessity')\n",
        "elif result == [[0, 1, 0]]:\n",
        "  print('Experimental/Investigational')\n",
        "elif result == [[0, 0, 1]]:\n",
        "  print('Urgent Care')"
      ],
      "metadata": {
        "colab": {
          "base_uri": "https://localhost:8080/"
        },
        "id": "xyVLzMcovTg4",
        "outputId": "cb195d00-2ad5-4d91-d11d-2db3280eeb8e"
      },
      "execution_count": 12,
      "outputs": [
        {
          "output_type": "stream",
          "name": "stdout",
          "text": [
            "Experimental/Investigational\n"
          ]
        }
      ]
    },
    {
      "cell_type": "markdown",
      "source": [
        "From the original data_inf, it can be seen that the prediction matches with the actual `Type`, and thus the model works properly."
      ],
      "metadata": {
        "id": "fgijUI-9-g5O"
      }
    }
  ]
}